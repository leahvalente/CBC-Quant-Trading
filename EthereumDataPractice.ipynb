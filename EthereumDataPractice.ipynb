{
  "nbformat": 4,
  "nbformat_minor": 0,
  "metadata": {
    "colab": {
      "provenance": [],
      "name": "EthereumDataPractice.ipynb",
      "authorship_tag": "ABX9TyNpHQv3/QBSmfV1ilA+be/K",
      "include_colab_link": true
    },
    "kernelspec": {
      "name": "python3",
      "display_name": "Python 3"
    },
    "language_info": {
      "name": "python"
    }
  },
  "cells": [
    {
      "cell_type": "markdown",
      "metadata": {
        "id": "view-in-github",
        "colab_type": "text"
      },
      "source": [
        "<a href=\"https://colab.research.google.com/github/leahvalente/CBC-Quant-Trading/blob/main/EthereumDataPractice.ipynb\" target=\"_parent\"><img src=\"https://colab.research.google.com/assets/colab-badge.svg\" alt=\"Open In Colab\"/></a>"
      ]
    },
    {
      "cell_type": "markdown",
      "source": [
        "Test eth data query - practice - having indexing issue though"
      ],
      "metadata": {
        "id": "J1J2VxGt23EE"
      }
    },
    {
      "cell_type": "code",
      "source": [
        "import pandas as pd\n",
        "import numpy as np"
      ],
      "metadata": {
        "id": "gFR-fehT25bg"
      },
      "execution_count": null,
      "outputs": []
    },
    {
      "cell_type": "code",
      "source": [
        "eth_market_info = pd.read_csv('/content/Download Data - CRYPTOCURRENCY_US_KRAKEN_ETHUSD.csv')\n",
        "eth_market_info.head()\n",
        "\n",
        "eth_day_high = eth_market_info[\"High\"]\n",
        "\n",
        "\n",
        "#print(type(eth_day_high))\n",
        "#convert panda.Series to array\n",
        "eth_day_high = eth_day_high.to_numpy()\n",
        "\n",
        "\n",
        "#print(type(eth_day_high[0])) #is str\n",
        "\n",
        "#returns '1,389.98' without comma\n",
        "def remove_comma(string):\n",
        "  if type(string) == str:\n",
        "    comma_index = string.find(\",\")\n",
        "    if comma_index != -1:\n",
        "      return string[0:comma_index]+string[comma_index+1:]\n",
        "  return string\n",
        "\n",
        "#Convert array elements from string to floats\n",
        "for index in range(0,len(eth_day_high)):\n",
        "  eth_day_high = np.append(eth_day_high, float(remove_comma(eth_day_high[index])))\n",
        "  eth_day_high = np.delete(eth_day_high,0)\n",
        "  index+=1\n",
        "\n",
        "#count consecutive days etherum increases\n",
        "def days_increase(eth_day_high):\n",
        "  count = 0\n",
        "  print(\"length eth_day_high+1 = \"+str(len(eth_day_high)+1))\n",
        "  for high_index in range(len(eth_day_high+1)):\n",
        "    #compare day1 and day2\n",
        "    print(\"high_index+1 = \"+ str(high_index+1))\n",
        "    if (eth_day_high[high_index] < eth_day_high[high_index+1]): #why is this an issue if I am iterating len of 32 and the highest index is 31\n",
        "      count +=1\n",
        "    else:\n",
        "      count = 0\n",
        "    high_index+=1\n",
        "  return count\n",
        "\n",
        "number_days_increase = days_increase(eth_day_high)\n",
        "print(number_days_increase)\n",
        "\n",
        "#FAIL DOESN'T WORK\n",
        "#finds the FIRST index representing day that eth high price climbed if eth high price climbed for 3 consecutive days\n",
        "def consecutive_increase(eth_day_high):\n",
        "  count = 0\n",
        "  for high in range(0,len(eth_day_high+2)):\n",
        "    #compare day1 and day2\n",
        "    if (eth_day_high[high] < eth_day_high[high+1]):\n",
        "      count +=1\n",
        "      #compare day2 and day3\n",
        "      if (eth_day_high[high+1] < eth_day_high[high+2]):\n",
        "        count += 1\n",
        "    else:\n",
        "      #if day1 > day2, reset the counter\n",
        "      count = 0\n",
        "    if count==2:\n",
        "      return high+1\n",
        "  return 0\n",
        "\n",
        "#high+1 is index of 3rd consecutive day of increase (only for eth price highs)\n",
        "#note that the array has dates in order of most recent (today......8/23/22)\n",
        "\n",
        "#date = eth_market_info[\"Date\"][consecutive_increase(eth_day_high)]\n",
        "#print(date)\n",
        "#print(eth_day_high)\n",
        "#print(eth_market_info[\"Date\"])\n",
        "\n",
        "\n"
      ],
      "metadata": {
        "id": "1sG_a8NJ4Sf7",
        "colab": {
          "base_uri": "https://localhost:8080/",
          "height": 937
        },
        "outputId": "2364b0f1-7da8-4e28-ef03-d14552cab0b3"
      },
      "execution_count": null,
      "outputs": [
        {
          "output_type": "stream",
          "name": "stdout",
          "text": [
            "length eth_day_high+1 = 32\n",
            "high_index+1 = 1\n",
            "high_index+1 = 2\n",
            "high_index+1 = 3\n",
            "high_index+1 = 4\n",
            "high_index+1 = 5\n",
            "high_index+1 = 6\n",
            "high_index+1 = 7\n",
            "high_index+1 = 8\n",
            "high_index+1 = 9\n",
            "high_index+1 = 10\n",
            "high_index+1 = 11\n",
            "high_index+1 = 12\n",
            "high_index+1 = 13\n",
            "high_index+1 = 14\n",
            "high_index+1 = 15\n",
            "high_index+1 = 16\n",
            "high_index+1 = 17\n",
            "high_index+1 = 18\n",
            "high_index+1 = 19\n",
            "high_index+1 = 20\n",
            "high_index+1 = 21\n",
            "high_index+1 = 22\n",
            "high_index+1 = 23\n",
            "high_index+1 = 24\n",
            "high_index+1 = 25\n",
            "high_index+1 = 26\n",
            "high_index+1 = 27\n",
            "high_index+1 = 28\n",
            "high_index+1 = 29\n",
            "high_index+1 = 30\n",
            "high_index+1 = 31\n"
          ]
        },
        {
          "output_type": "error",
          "ename": "IndexError",
          "evalue": "ignored",
          "traceback": [
            "\u001b[0;31m---------------------------------------------------------------------------\u001b[0m",
            "\u001b[0;31mIndexError\u001b[0m                                Traceback (most recent call last)",
            "\u001b[0;32m<ipython-input-126-b117efaefd76>\u001b[0m in \u001b[0;36m<module>\u001b[0;34m\u001b[0m\n\u001b[1;32m     40\u001b[0m   \u001b[0;32mreturn\u001b[0m \u001b[0mcount\u001b[0m\u001b[0;34m\u001b[0m\u001b[0;34m\u001b[0m\u001b[0m\n\u001b[1;32m     41\u001b[0m \u001b[0;34m\u001b[0m\u001b[0m\n\u001b[0;32m---> 42\u001b[0;31m \u001b[0mnumber_days_increase\u001b[0m \u001b[0;34m=\u001b[0m \u001b[0mdays_increase\u001b[0m\u001b[0;34m(\u001b[0m\u001b[0meth_day_high\u001b[0m\u001b[0;34m)\u001b[0m\u001b[0;34m\u001b[0m\u001b[0;34m\u001b[0m\u001b[0m\n\u001b[0m\u001b[1;32m     43\u001b[0m \u001b[0mprint\u001b[0m\u001b[0;34m(\u001b[0m\u001b[0mnumber_days_increase\u001b[0m\u001b[0;34m)\u001b[0m\u001b[0;34m\u001b[0m\u001b[0;34m\u001b[0m\u001b[0m\n\u001b[1;32m     44\u001b[0m \u001b[0;34m\u001b[0m\u001b[0m\n",
            "\u001b[0;32m<ipython-input-126-b117efaefd76>\u001b[0m in \u001b[0;36mdays_increase\u001b[0;34m(eth_day_high)\u001b[0m\n\u001b[1;32m     33\u001b[0m     \u001b[0;31m#compare day1 and day2\u001b[0m\u001b[0;34m\u001b[0m\u001b[0;34m\u001b[0m\u001b[0;34m\u001b[0m\u001b[0m\n\u001b[1;32m     34\u001b[0m     \u001b[0mprint\u001b[0m\u001b[0;34m(\u001b[0m\u001b[0;34m\"high_index+1 = \"\u001b[0m\u001b[0;34m+\u001b[0m \u001b[0mstr\u001b[0m\u001b[0;34m(\u001b[0m\u001b[0mhigh_index\u001b[0m\u001b[0;34m+\u001b[0m\u001b[0;36m1\u001b[0m\u001b[0;34m)\u001b[0m\u001b[0;34m)\u001b[0m\u001b[0;34m\u001b[0m\u001b[0;34m\u001b[0m\u001b[0m\n\u001b[0;32m---> 35\u001b[0;31m     \u001b[0;32mif\u001b[0m \u001b[0;34m(\u001b[0m\u001b[0meth_day_high\u001b[0m\u001b[0;34m[\u001b[0m\u001b[0mhigh_index\u001b[0m\u001b[0;34m]\u001b[0m \u001b[0;34m<\u001b[0m \u001b[0meth_day_high\u001b[0m\u001b[0;34m[\u001b[0m\u001b[0mhigh_index\u001b[0m\u001b[0;34m+\u001b[0m\u001b[0;36m1\u001b[0m\u001b[0;34m]\u001b[0m\u001b[0;34m)\u001b[0m\u001b[0;34m:\u001b[0m\u001b[0;34m\u001b[0m\u001b[0;34m\u001b[0m\u001b[0m\n\u001b[0m\u001b[1;32m     36\u001b[0m       \u001b[0mcount\u001b[0m \u001b[0;34m+=\u001b[0m\u001b[0;36m1\u001b[0m\u001b[0;34m\u001b[0m\u001b[0;34m\u001b[0m\u001b[0m\n\u001b[1;32m     37\u001b[0m     \u001b[0;32melse\u001b[0m\u001b[0;34m:\u001b[0m\u001b[0;34m\u001b[0m\u001b[0;34m\u001b[0m\u001b[0m\n",
            "\u001b[0;31mIndexError\u001b[0m: index 31 is out of bounds for axis 0 with size 31"
          ]
        }
      ]
    }
  ]
}